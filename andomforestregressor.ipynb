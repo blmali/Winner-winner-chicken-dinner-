{
 "cells": [
  {
   "cell_type": "code",
   "execution_count": 1,
   "metadata": {},
   "outputs": [],
   "source": [
    "import numpy as np\n",
    "import pandas as pd\n",
    "import seaborn as sns                  # For data visualization \n",
    "import matplotlib.pyplot as plt        # For plotting graphs \n",
    "%matplotlib inline \n",
    "import warnings                        # To ignore any warnings warnings.filterwarnings(\"ignore\")\n",
    "train=pd.read_csv(\"train_data.csv\")\n"
   ]
  },
  {
   "cell_type": "code",
   "execution_count": 2,
   "metadata": {},
   "outputs": [
    {
     "data": {
      "text/html": [
       "<div>\n",
       "<style scoped>\n",
       "    .dataframe tbody tr th:only-of-type {\n",
       "        vertical-align: middle;\n",
       "    }\n",
       "\n",
       "    .dataframe tbody tr th {\n",
       "        vertical-align: top;\n",
       "    }\n",
       "\n",
       "    .dataframe thead th {\n",
       "        text-align: right;\n",
       "    }\n",
       "</style>\n",
       "<table border=\"1\" class=\"dataframe\">\n",
       "  <thead>\n",
       "    <tr style=\"text-align: right;\">\n",
       "      <th></th>\n",
       "      <th>Avg_firing_dist</th>\n",
       "      <th>Avg_Srv_time</th>\n",
       "      <th>Avg_ping</th>\n",
       "      <th>Total_travel_dist</th>\n",
       "      <th>Avg_damage</th>\n",
       "      <th>Avg_firing_dist_in</th>\n",
       "      <th>Avg_ping_in</th>\n",
       "    </tr>\n",
       "  </thead>\n",
       "  <tbody>\n",
       "    <tr>\n",
       "      <th>0</th>\n",
       "      <td>264.22</td>\n",
       "      <td>19.06</td>\n",
       "      <td>96.79</td>\n",
       "      <td>6332.00</td>\n",
       "      <td>1788.88</td>\n",
       "      <td>0.003785</td>\n",
       "      <td>0.010332</td>\n",
       "    </tr>\n",
       "    <tr>\n",
       "      <th>1</th>\n",
       "      <td>366.66</td>\n",
       "      <td>24.42</td>\n",
       "      <td>96.67</td>\n",
       "      <td>6603.70</td>\n",
       "      <td>1750.92</td>\n",
       "      <td>0.002727</td>\n",
       "      <td>0.010344</td>\n",
       "    </tr>\n",
       "    <tr>\n",
       "      <th>2</th>\n",
       "      <td>259.54</td>\n",
       "      <td>16.37</td>\n",
       "      <td>97.50</td>\n",
       "      <td>6145.80</td>\n",
       "      <td>1838.12</td>\n",
       "      <td>0.003853</td>\n",
       "      <td>0.010256</td>\n",
       "    </tr>\n",
       "    <tr>\n",
       "      <th>3</th>\n",
       "      <td>183.23</td>\n",
       "      <td>13.52</td>\n",
       "      <td>97.31</td>\n",
       "      <td>6584.70</td>\n",
       "      <td>1869.24</td>\n",
       "      <td>0.005458</td>\n",
       "      <td>0.010276</td>\n",
       "    </tr>\n",
       "    <tr>\n",
       "      <th>4</th>\n",
       "      <td>299.71</td>\n",
       "      <td>19.74</td>\n",
       "      <td>97.82</td>\n",
       "      <td>6701.55</td>\n",
       "      <td>1818.88</td>\n",
       "      <td>0.003337</td>\n",
       "      <td>0.010223</td>\n",
       "    </tr>\n",
       "    <tr>\n",
       "      <th>5</th>\n",
       "      <td>396.30</td>\n",
       "      <td>14.88</td>\n",
       "      <td>96.15</td>\n",
       "      <td>4000.70</td>\n",
       "      <td>1746.08</td>\n",
       "      <td>0.002523</td>\n",
       "      <td>0.010400</td>\n",
       "    </tr>\n",
       "    <tr>\n",
       "      <th>6</th>\n",
       "      <td>250.44</td>\n",
       "      <td>13.61</td>\n",
       "      <td>97.43</td>\n",
       "      <td>4458.60</td>\n",
       "      <td>1863.52</td>\n",
       "      <td>0.003993</td>\n",
       "      <td>0.010264</td>\n",
       "    </tr>\n",
       "    <tr>\n",
       "      <th>7</th>\n",
       "      <td>161.39</td>\n",
       "      <td>12.53</td>\n",
       "      <td>97.30</td>\n",
       "      <td>8117.05</td>\n",
       "      <td>1904.76</td>\n",
       "      <td>0.006196</td>\n",
       "      <td>0.010277</td>\n",
       "    </tr>\n",
       "    <tr>\n",
       "      <th>8</th>\n",
       "      <td>170.88</td>\n",
       "      <td>12.94</td>\n",
       "      <td>97.19</td>\n",
       "      <td>6687.30</td>\n",
       "      <td>1851.44</td>\n",
       "      <td>0.005852</td>\n",
       "      <td>0.010289</td>\n",
       "    </tr>\n",
       "    <tr>\n",
       "      <th>9</th>\n",
       "      <td>206.76</td>\n",
       "      <td>12.50</td>\n",
       "      <td>97.45</td>\n",
       "      <td>6300.65</td>\n",
       "      <td>1821.56</td>\n",
       "      <td>0.004837</td>\n",
       "      <td>0.010262</td>\n",
       "    </tr>\n",
       "  </tbody>\n",
       "</table>\n",
       "</div>"
      ],
      "text/plain": [
       "   Avg_firing_dist  Avg_Srv_time  Avg_ping  Total_travel_dist  Avg_damage  \\\n",
       "0           264.22         19.06     96.79            6332.00     1788.88   \n",
       "1           366.66         24.42     96.67            6603.70     1750.92   \n",
       "2           259.54         16.37     97.50            6145.80     1838.12   \n",
       "3           183.23         13.52     97.31            6584.70     1869.24   \n",
       "4           299.71         19.74     97.82            6701.55     1818.88   \n",
       "5           396.30         14.88     96.15            4000.70     1746.08   \n",
       "6           250.44         13.61     97.43            4458.60     1863.52   \n",
       "7           161.39         12.53     97.30            8117.05     1904.76   \n",
       "8           170.88         12.94     97.19            6687.30     1851.44   \n",
       "9           206.76         12.50     97.45            6300.65     1821.56   \n",
       "\n",
       "   Avg_firing_dist_in  Avg_ping_in  \n",
       "0            0.003785     0.010332  \n",
       "1            0.002727     0.010344  \n",
       "2            0.003853     0.010256  \n",
       "3            0.005458     0.010276  \n",
       "4            0.003337     0.010223  \n",
       "5            0.002523     0.010400  \n",
       "6            0.003993     0.010264  \n",
       "7            0.006196     0.010277  \n",
       "8            0.005852     0.010289  \n",
       "9            0.004837     0.010262  "
      ]
     },
     "execution_count": 2,
     "metadata": {},
     "output_type": "execute_result"
    }
   ],
   "source": [
    "train[\"Avg_firing_dist\"]=train[\"Avg_firing_dist\"].replace(0.0,train['Avg_firing_dist'].mean())\n",
    "train[\"Avg_Srv_time\"]=train[\"Avg_Srv_time\"].replace(0.0,train['Avg_Srv_time'].mean())\n",
    "train[\"Avg_ping\"]=train[\"Avg_ping\"].replace(0.0,train['Avg_ping'].mean())\n",
    "train[\"Total_travel_dist\"]=train[\"Total_travel_dist\"].replace(0.0,train['Total_travel_dist'].mean())\n",
    "\n",
    "\n",
    "\n",
    "train[\"Avg_firing_dist_in\"]=1/train[\"Avg_firing_dist\"]\n",
    "train[\"Avg_ping_in\"]=1/train[\"Avg_ping\"]\n",
    "train.head(10)"
   ]
  },
  {
   "cell_type": "code",
   "execution_count": 3,
   "metadata": {},
   "outputs": [
    {
     "data": {
      "text/plain": [
       "Avg_firing_dist       0\n",
       "Avg_Srv_time          0\n",
       "Avg_ping              0\n",
       "Total_travel_dist     0\n",
       "Avg_damage            0\n",
       "Avg_firing_dist_in    0\n",
       "Avg_ping_in           0\n",
       "dtype: int64"
      ]
     },
     "execution_count": 3,
     "metadata": {},
     "output_type": "execute_result"
    }
   ],
   "source": [
    "test=pd.read_csv(\"test_data.csv\")\n",
    "test[\"Avg_firing_dist\"]=test[\"Avg_firing_dist\"].replace(0.0,test['Avg_firing_dist'].mean())\n",
    "test[\"Avg_Srv_time\"]=test[\"Avg_Srv_time\"].replace(0.0,test['Avg_Srv_time'].mean())\n",
    "test[\"Avg_ping\"]=test[\"Avg_ping\"].replace(0.0,test['Avg_ping'].mean())\n",
    "test[\"Total_travel_dist\"]=test[\"Total_travel_dist\"].replace(0.0,test['Total_travel_dist'].mean())\n",
    "\n",
    "\n",
    "\n",
    "test[\"Avg_firing_dist_in\"]=1/test[\"Avg_firing_dist\"]\n",
    "test[\"Avg_ping_in\"]=1/test[\"Avg_ping\"]\n",
    "train.isnull().sum()"
   ]
  },
  {
   "cell_type": "code",
   "execution_count": 4,
   "metadata": {},
   "outputs": [],
   "source": [
    "train_original=train.copy()\n",
    "test_original=test.copy()"
   ]
  },
  {
   "cell_type": "code",
   "execution_count": 5,
   "metadata": {},
   "outputs": [
    {
     "name": "stderr",
     "output_type": "stream",
     "text": [
      "C:\\Users\\Dell\\Anaconda3\\lib\\site-packages\\matplotlib\\axes\\_axes.py:6462: UserWarning: The 'normed' kwarg is deprecated, and has been replaced by the 'density' kwarg.\n",
      "  warnings.warn(\"The 'normed' kwarg is deprecated, and has been \"\n"
     ]
    },
    {
     "data": {
      "image/png": "[encoded data removed]",
      "text/plain": [
       "<Figure size 432x288 with 1 Axes>"
      ]
     },
     "metadata": {},
     "output_type": "display_data"
    }
   ],
   "source": [
    "train['Avg_firing_dist'] = np.log(train['Avg_firing_dist'])\n",
    "train['Avg_Srv_time'] = np.log(train['Avg_Srv_time'])\n",
    "train['Avg_ping'] = np.log(train['Avg_ping'])\n",
    "train['Total_travel_dist'] = np.log(train['Total_travel_dist'])\n",
    "\n",
    "sns.distplot(train['Avg_Srv_time']);"
   ]
  },
  {
   "cell_type": "code",
   "execution_count": 6,
   "metadata": {},
   "outputs": [],
   "source": [
    "test['Avg_firing_dist'] = np.log(test['Avg_firing_dist'])\n",
    "test['Avg_Srv_time'] = np.log(test['Avg_Srv_time'])\n",
    "test['Avg_ping'] = np.log(test['Avg_ping'])\n",
    "test['Total_travel_dist'] = np.log(test['Total_travel_dist'])\n"
   ]
  },
  {
   "cell_type": "code",
   "execution_count": 7,
   "metadata": {},
   "outputs": [
    {
     "data": {
      "text/plain": [
       "(2000, 6)"
      ]
     },
     "execution_count": 7,
     "metadata": {},
     "output_type": "execute_result"
    }
   ],
   "source": [
    "X=train.drop('Avg_damage',1)\n",
    "y=train.Avg_damage\n",
    "X.shape"
   ]
  },
  {
   "cell_type": "code",
   "execution_count": 9,
   "metadata": {},
   "outputs": [],
   "source": [
    "from sklearn.model_selection import train_test_split\n",
    "x_train, x_cv, y_train, y_cv = train_test_split(X,y, test_size =0.3)\n",
    "from sklearn import linear_model\n",
    "from sklearn.ensemble import RandomForestRegressor\n",
    "from sklearn.metrics import accuracy_score\n",
    "\n"
   ]
  },
  {
   "cell_type": "code",
   "execution_count": 10,
   "metadata": {},
   "outputs": [],
   "source": [
    "from sklearn.preprocessing import StandardScaler"
   ]
  },
  {
   "cell_type": "code",
   "execution_count": 12,
   "metadata": {},
   "outputs": [],
   "source": [
    "scaler = StandardScaler()\n",
    "scaler.fit(x_train)\n",
    "x_train = scaler.transform(x_train)\n",
    "test = scaler.transform(test)"
   ]
  },
  {
   "cell_type": "code",
   "execution_count": 13,
   "metadata": {},
   "outputs": [],
   "source": [
    "model = RandomForestRegressor(n_jobs=-1)"
   ]
  },
  {
   "cell_type": "code",
   "execution_count": 14,
   "metadata": {},
   "outputs": [
    {
     "data": {
      "text/plain": [
       "RandomForestRegressor(bootstrap=True, criterion='mse', max_depth=None,\n",
       "           max_features='auto', max_leaf_nodes=None,\n",
       "           min_impurity_decrease=0.0, min_impurity_split=None,\n",
       "           min_samples_leaf=1, min_samples_split=2,\n",
       "           min_weight_fraction_leaf=0.0, n_estimators=10, n_jobs=-1,\n",
       "           oob_score=False, random_state=None, verbose=0, warm_start=False)"
      ]
     },
     "execution_count": 14,
     "metadata": {},
     "output_type": "execute_result"
    }
   ],
   "source": [
    "model.fit(x_train, y_train)"
   ]
  },
  {
   "cell_type": "code",
   "execution_count": 15,
   "metadata": {},
   "outputs": [
    {
     "name": "stdout",
     "output_type": "stream",
     "text": [
      "72.86897020085661\n"
     ]
    }
   ],
   "source": [
    "y_pred = model.predict(x_cv)\n",
    "from sklearn import metrics\n",
    "print(np.sqrt(metrics.mean_squared_error(y_cv, y_pred)))"
   ]
  },
  {
   "cell_type": "code",
   "execution_count": 16,
   "metadata": {},
   "outputs": [],
   "source": [
    "pred_test1=[]\n",
    "pred_test = model.predict(test)\n",
    "submission=pd.read_csv(\"sample_submission.csv\")\n",
    "for xx in pred_test:\n",
    "    pred_test1.append(int(xx+.50))\n"
   ]
  },
  {
   "cell_type": "code",
   "execution_count": 17,
   "metadata": {},
   "outputs": [],
   "source": [
    "pd.DataFrame(pred_test1).to_csv('logistic.csv',index=False,header=False)"
   ]
  },
  {
   "cell_type": "code",
   "execution_count": null,
   "metadata": {},
   "outputs": [],
   "source": []
  }
 ],
 "metadata": {
  "kernelspec": {
   "display_name": "Python 3",
   "language": "python",
   "name": "python3"
  },
  "language_info": {
   "codemirror_mode": {
    "name": "ipython",
    "version": 3
   },
   "file_extension": ".py",
   "mimetype": "text/x-python",
   "name": "python",
   "nbconvert_exporter": "python",
   "pygments_lexer": "ipython3",
   "version": "3.6.5"
  }
 },
 "nbformat": 4,
 "nbformat_minor": 2
}
